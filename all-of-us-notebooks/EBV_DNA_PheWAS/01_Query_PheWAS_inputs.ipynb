{
 "cells": [
  {
   "cell_type": "markdown",
   "metadata": {},
   "source": [
    "# Get PheWAS input files\n",
    "\n",
    "To perform EBV DNAemia PheWAS within the AoU cohort, we followed the demo workspace for performing PheWAS in AoU: https://workbench.researchallofus.org/workspaces/aou-rw-269aaeea/demophewassmoking/data. \n",
    "\n",
    "This script queries for the demographics and EHR data (ICD9/10 codes), along with the ICD code annotation files, that are used in downstream analyses."
   ]
  },
  {
   "cell_type": "code",
   "execution_count": null,
   "metadata": {},
   "outputs": [],
   "source": [
    "# Python packages\n",
    "import os\n",
    "import pandas as pd"
   ]
  },
  {
   "cell_type": "code",
   "execution_count": null,
   "metadata": {},
   "outputs": [],
   "source": [
    "my_bucket = os.getenv('WORKSPACE_BUCKET')\n",
    "my_bucket"
   ]
  },
  {
   "cell_type": "code",
   "execution_count": null,
   "metadata": {},
   "outputs": [],
   "source": [
    "CDR_version=os.getenv(\"WORKSPACE_CDR\")"
   ]
  },
  {
   "cell_type": "code",
   "execution_count": null,
   "metadata": {},
   "outputs": [],
   "source": [
    "# Get ICD code annotation files\n",
    "os.system(f'gsutil -m cp {my_bucket}/notebooks/Phecode_map_v1_2_icd10cm_beta.csv '+ 'Phecode_map_v1_2_icd10cm_beta.csv')\n",
    "os.system(f'gsutil -m cp {my_bucket}/notebooks/ICDPhecodes ' + 'ICDPhecodes')\n",
    "\n",
    "# These files did not end up being used in the downstream analysis\n",
    "# os.system(f'gsutil -m cp {my_bucket}/notebooks/ICD9PhecodeExclude.csv ' + 'ICD9PhecodeExclude.csv')\n",
    "# os.system(f'gsutil -m cp {my_bucket}/notebooks/phecode_map_icd9_10.csv ' + 'phecode_map_icd9_10.csv')\n",
    "# os.system(f'gsutil -m cp {my_bucket}/notebooks/pheinfo.csv ' + 'pheinfo.csv')\n",
    "# os.system(f'gsutil -m cp {my_bucket}/notebooks/phecode_rollup_map.csv ' + 'phecode_rollup_map.csv')"
   ]
  },
  {
   "cell_type": "code",
   "execution_count": null,
   "metadata": {},
   "outputs": [],
   "source": [
    "# Extract relevant information from condition_occurrence table \n",
    "## Grouped by person and ICD code\n",
    "query=\"\"\"SELECT person_id,\n",
    "                condition_source_value,\n",
    "                COUNT(*) as n\n",
    "         FROM `\"\"\"+CDR_version+\"\"\".condition_occurrence`\n",
    "         GROUP BY person_id, condition_source_value\n",
    "         ORDER BY person_id\"\"\"\n",
    "condition=pd.read_gbq(query, dialect=\"standard\")\n",
    "# Save output as csv\n",
    "condition.to_csv(\"condition_source_df.csv\", sep=',')"
   ]
  },
  {
   "cell_type": "code",
   "execution_count": null,
   "metadata": {},
   "outputs": [],
   "source": [
    "# Extract relevant information from observation table \n",
    "## Filtered to ICD9/ICD10 codes by mapping to concept table\n",
    "## Grouped by person and ICD code\n",
    "query=\"\"\"SELECT person_id,\n",
    "                observation_concept_id,\n",
    "                observation_source_concept_id,\n",
    "                observation_source_value,\n",
    "                COUNT(*) as n\n",
    "         FROM `\"\"\"+CDR_version+\"\"\".observation` as obs\n",
    "         LEFT JOIN `\"\"\"+CDR_version+\"\"\".concept` as concept\n",
    "             ON obs.observation_source_concept_id=concept.concept_id \n",
    "         WHERE vocabulary_id IN ('ICD9CM','ICD10CM')\n",
    "         GROUP BY person_id,\n",
    "                observation_concept_id,\n",
    "                observation_source_concept_id,\n",
    "                observation_source_value\"\"\"\n",
    "obs=pd.read_gbq(query, dialect=\"standard\")\n",
    "# Save output as csv\n",
    "obs.to_csv(\"observation_df.csv\", sep=',')"
   ]
  },
  {
   "cell_type": "code",
   "execution_count": null,
   "metadata": {},
   "outputs": [],
   "source": [
    "# Extract entire demographic table\n",
    "query=\"\"\"SELECT *\n",
    "         FROM `\"\"\"+CDR_version+\"\"\".person`\"\"\"\n",
    "demo=pd.read_gbq(query, dialect=\"standard\")\n",
    "# Save output as csv\n",
    "demo.to_csv(\"demographic_df.csv\", sep=',')"
   ]
  }
 ],
 "metadata": {
  "language_info": {
   "name": "python"
  }
 },
 "nbformat": 4,
 "nbformat_minor": 2
}
