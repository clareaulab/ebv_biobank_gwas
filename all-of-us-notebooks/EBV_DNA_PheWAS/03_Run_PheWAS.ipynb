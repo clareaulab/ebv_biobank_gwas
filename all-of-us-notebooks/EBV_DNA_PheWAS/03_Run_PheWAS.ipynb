{
 "cells": [
  {
   "cell_type": "markdown",
   "metadata": {},
   "source": [
    "# EBV DNA PheWAS"
   ]
  },
  {
   "cell_type": "markdown",
   "metadata": {},
   "source": [
    "We are subsetting to individuals who:\n",
    "- Have WGS data \n",
    "- Have at least 2 instances of any ICD code\n",
    "- Are of EUR ancestry (to match the general UKB cohort)"
   ]
  },
  {
   "cell_type": "code",
   "execution_count": null,
   "metadata": {
    "vscode": {
     "languageId": "r"
    }
   },
   "outputs": [],
   "source": [
    "setwd('/home/jupyter/workspaces/ebvphewas')"
   ]
  },
  {
   "cell_type": "code",
   "execution_count": null,
   "metadata": {
    "vscode": {
     "languageId": "r"
    }
   },
   "outputs": [],
   "source": [
    "# Load in libraries\n",
    "suppressMessages(library(data.table))\n",
    "suppressMessages(library(dplyr))\n",
    "library(fastglm)\n",
    "library(ggplot2)\n",
    "library(BiocParallel)"
   ]
  },
  {
   "cell_type": "markdown",
   "metadata": {},
   "source": [
    "Aggregate observation/condition source values for each person:"
   ]
  },
  {
   "cell_type": "code",
   "execution_count": null,
   "metadata": {
    "vscode": {
     "languageId": "r"
    }
   },
   "outputs": [],
   "source": [
    "# Load in files from 01_Query_PheWAS_inputs\n",
    "obs_df <- fread(\"observation_df.csv\")\n",
    "con_df <- fread(\"condition_source_df.csv\")"
   ]
  },
  {
   "cell_type": "code",
   "execution_count": null,
   "metadata": {
    "vscode": {
     "languageId": "r"
    }
   },
   "outputs": [],
   "source": [
    "obs_df <- obs_df[,c(\"person_id\", \"observation_source_value\", \"n\")]\n",
    "con_df <- con_df[,c(\"person_id\", \"condition_source_value\", \"n\")]\n",
    "colnames(obs_df) <- c(\"person\", \"value\", \"n\")\n",
    "colnames(con_df) <- c(\"person\", \"value\", \"n\")"
   ]
  },
  {
   "cell_type": "markdown",
   "metadata": {},
   "source": [
    "Get only individuals with WGS data:"
   ]
  },
  {
   "cell_type": "code",
   "execution_count": null,
   "metadata": {
    "vscode": {
     "languageId": "r"
    }
   },
   "outputs": [],
   "source": [
    "gm <- data.frame(fread(\"../data/genomic_metrics.tsv\"))"
   ]
  },
  {
   "cell_type": "code",
   "execution_count": null,
   "metadata": {
    "vscode": {
     "languageId": "r"
    }
   },
   "outputs": [],
   "source": [
    "twofer_df <- rbind(obs_df[obs_df$person %in% gm$research_id,], con_df[con_df$person %in% gm$research_id,])\n",
    "dim(twofer_df)\n",
    "twofer_df_agg <- twofer_df[, .(count = sum(n)), by=list(person,value)]\n",
    "head(twofer_df_agg)\n",
    "dim(twofer_df_agg)"
   ]
  },
  {
   "cell_type": "markdown",
   "metadata": {},
   "source": [
    "Filter for individuals with at least 2 counts of ICD codes:"
   ]
  },
  {
   "cell_type": "code",
   "execution_count": null,
   "metadata": {
    "vscode": {
     "languageId": "r"
    }
   },
   "outputs": [],
   "source": [
    "twofer_df_agg <- twofer_df_agg %>% filter(count >= 2) # before: 145607603 x 3\n",
    "dim(twofer_df_agg) # after: 8068442 x 3\n",
    "# save the file\n",
    "fwrite(twofer_df_agg, \"twofer_df_agg.csv\")"
   ]
  },
  {
   "cell_type": "markdown",
   "metadata": {},
   "source": [
    "Get EBV quantifications for individuals with EUR ancestry from `EBV_DNA_Quantification/02_EBV_DNA_covariates.ipynb`. "
   ]
  },
  {
   "cell_type": "code",
   "execution_count": null,
   "metadata": {
    "vscode": {
     "languageId": "r"
    }
   },
   "outputs": [],
   "source": [
    "# 1/0 of EBV+ at all thresholds\n",
    "# out of these, 11572 are EBV+ at the 0.0018 threshold\n",
    "ebv_30x_df_EUR <- fread(\"EBV_GWAS_data/EUR/ebv_30x_df_EUR_allthresh.csv\") \n",
    "nrow(ebv_30x_df_EUR[ebv_30x_df_EUR$ebv_q30_0.0018 == 1,])"
   ]
  },
  {
   "cell_type": "code",
   "execution_count": null,
   "metadata": {
    "vscode": {
     "languageId": "r"
    }
   },
   "outputs": [],
   "source": [
    "# 101399 EUR ancestry people with at least two instances of any ICD code\n",
    "twofer_df_agg_EUR <- twofer_df_agg %>%\n",
    "    dplyr::filter(person %in% eur_30x_df_EUR$person)\n",
    "length(unique(twofer_df_agg_EUR$person))"
   ]
  },
  {
   "cell_type": "code",
   "execution_count": null,
   "metadata": {
    "vscode": {
     "languageId": "r"
    }
   },
   "outputs": [],
   "source": [
    "# out of these, 8777 are EBV+ at the 0.0018 threshold\n",
    "ebv_30x_df_EUR_hasICD <- ebv_30x_df_EUR[ebv_30x_df_EUR$person %in% twofer_df_agg_EUR$person,]\n",
    "nrow(ebv_30x_df_EUR_hasICD) # 101399\n",
    "nrow(ebv_30x_df_EUR_hasICD[ebv_30x_df_EUR_hasICD$ebv_q30_0.0018 == 1,]) # 8777"
   ]
  },
  {
   "cell_type": "markdown",
   "metadata": {},
   "source": [
    "## Run PheWAS on individuals with EUR ancestry\n",
    "\n",
    "This takes 1-2 hours to run. "
   ]
  },
  {
   "cell_type": "markdown",
   "metadata": {},
   "source": [
    "Get represented codes (total count >= 20):"
   ]
  },
  {
   "cell_type": "code",
   "execution_count": null,
   "metadata": {
    "vscode": {
     "languageId": "r"
    }
   },
   "outputs": [],
   "source": [
    "# ICDs that are at least >= 2 count (51096 codes)\n",
    "icd_values <- table(twofer_df_agg_EUR$value) \n",
    "length(icd_values)\n",
    "\n",
    "# represented codes in PheWAS (total count >= 20) (14384 codes)\n",
    "icds_represented <- names(icd_values)[(icd_values >= 20)]\n",
    "length(icds_represented)"
   ]
  },
  {
   "cell_type": "code",
   "execution_count": null,
   "metadata": {
    "vscode": {
     "languageId": "r"
    }
   },
   "outputs": [],
   "source": [
    "# Run PheWAS on 0018 threshold \n",
    "\n",
    "pathout = paste0(\"../intermediate/ebv_phewas_EUR_0018.csv\")\n",
    "\n",
    "# writing realtime: track progress in terminal with watch -n 1 'wc -l file.csv'\n",
    "bplapply(1:length(icds_represented), BPPARAM = MulticoreParam(4), function(i){\n",
    "    id_one <- icds_represented[i]\n",
    "    print(id_one)\n",
    "    ebv_30x_df_EUR$outcome <- as.numeric(ebv_30x_df_EUR$person %in% twofer_df_agg_EUR[twofer_df_agg_EUR$value == id_one,]$person)\n",
    "    ft <- fisher.test(ebv_30x_df_EUR$ebv_q30_0.0018, ebv_30x_df_EUR$outcome)\n",
    "    df <- data.frame(id_one, n = sum(ebv_30x_df_EUR$outcome), p.value = ft$p.value, OR = ft$estimate)\n",
    "    if(i == 1){\n",
    "        fwrite(df,pathout,append = F)\n",
    "    } else{\n",
    "        fwrite(df,pathout,append = T)\n",
    "    }\n",
    "}) %>% rbindlist() -> ebv_phewas"
   ]
  },
  {
   "cell_type": "markdown",
   "metadata": {},
   "source": [
    "Stricter PheWAS (only running on EUR people with at least 2 instances of any ICD code, 101399 people):"
   ]
  },
  {
   "cell_type": "code",
   "execution_count": null,
   "metadata": {
    "vscode": {
     "languageId": "r"
    }
   },
   "outputs": [],
   "source": [
    "pathout = paste0(\"../intermediate/ebv_phewas_EUR_hasICD_0018.csv\")\n",
    "\n",
    "# writing realtime to track progress in terminal with watch -n 1 'wc -l file.csv'\n",
    "bplapply(1:length(icds_represented), BPPARAM = MulticoreParam(4), function(i){\n",
    "    id_one <- icds_represented[i]\n",
    "    ebv_30x_df_EUR_hasICD$outcome <- as.numeric(ebv_30x_df_EUR_hasICD$person %in% twofer_df_agg_EUR[twofer_df_agg_EUR$value == id_one,]$person)\n",
    "    ft <- fisher.test(ebv_30x_df_EUR_hasICD$ebv_q30_0018, ebv_30x_df_EUR_hasICD$outcome)\n",
    "    df <- data.frame(id_one, n = sum(ebv_30x_df_EUR_hasICD$outcome), p.value = ft$p.value, OR = ft$estimate)\n",
    "    if(i == 1){\n",
    "        fwrite(df,pathout,append = F)\n",
    "    } else{\n",
    "        fwrite(df,pathout,append = T)\n",
    "    }\n",
    "}) %>% rbindlist() -> ebv_phewas_hasICD"
   ]
  },
  {
   "cell_type": "markdown",
   "metadata": {},
   "source": [
    "## Add annotations for each code\n",
    "\n",
    "Using files from `02_Clean_ICD_annotations.ipynb`."
   ]
  },
  {
   "cell_type": "code",
   "execution_count": null,
   "metadata": {
    "vscode": {
     "languageId": "r"
    }
   },
   "outputs": [],
   "source": [
    "AOU_PheWAS <- fread(\"../data/ebv_phewas_EUR_0018.csv\")\n",
    "\n",
    "# Add AOU annotations - cleaned up from the ICD9/ICD10CM reference mapping \n",
    "ICD_Phecodes_All <- fread(\"../data/ICD_Phecodes_All.csv\")\n",
    "AOU_PheWAS <- AOU_PheWAS %>%\n",
    "  dplyr::left_join(ICD_Phecodes_All, by = \"id_one\")\n",
    "\n",
    "# Subset for ICD10CM codes to compare with UKB (6881 rows left)\n",
    "AOU_PheWAS <- AOU_PheWAS[AOU_PheWAS$Code == \"ICD10CM\",]\n",
    "\n",
    "# Lots of annotation duplications (same ICD10CM code, different descriptions)\n",
    "# In this case, just take the first row annotation\n",
    "AOU_PheWAS <- AOU_PheWAS %>% distinct(id_one, .keep_all = TRUE)\n"
   ]
  },
  {
   "cell_type": "markdown",
   "metadata": {},
   "source": [
    "## Fisher tests for specific codes"
   ]
  },
  {
   "cell_type": "code",
   "execution_count": null,
   "metadata": {
    "vscode": {
     "languageId": "r"
    }
   },
   "outputs": [],
   "source": [
    "id_one <- \"G35\" # or \"B27.00\"\n",
    "id_one %in% twofer_df_agg_EUR$value"
   ]
  },
  {
   "cell_type": "code",
   "execution_count": null,
   "metadata": {
    "vscode": {
     "languageId": "r"
    }
   },
   "outputs": [],
   "source": [
    "ebv_30x_df_EUR$outcome <- as.numeric(ebv_30x_df_EUR$person %in% twofer_df_agg_EUR[twofer_df_agg_EUR$value == id_one,]$person)\n",
    "ft <- fisher.test(ebv_30x_df_EUR$ebv_q30_0018, ebv_30x_df_EUR$outcome)\n",
    "ft"
   ]
  },
  {
   "cell_type": "markdown",
   "metadata": {},
   "source": [
    "### Example code for running a keyword association (searching for substring):\n",
    "\n",
    "NOTE: be careful when keywords show up only in the \"Excl_Phenotypes\" - an example is an ecounter for a **test** for HIV that does not mean HIV+."
   ]
  },
  {
   "cell_type": "code",
   "execution_count": null,
   "metadata": {
    "vscode": {
     "languageId": "r"
    }
   },
   "outputs": [],
   "source": [
    "ICD_Phecodes <- fread(\"ICD_Phecodes_All.csv\")"
   ]
  },
  {
   "cell_type": "code",
   "execution_count": null,
   "metadata": {
    "vscode": {
     "languageId": "r"
    }
   },
   "outputs": [],
   "source": [
    "keyword <- \"Multiple sclerosis\" # or \"infectious mononuc\"\n",
    "has_keyword <- ICD_Phecodes[ICD_Phecodes$Code_Description %likeic% keyword | \n",
    "                           ICD_Phecodes$Phecode_Description %likeic% keyword | \n",
    "                           ICD_Phecodes$Excl_Phenotypes %likeic% keyword, ]\n",
    "has_keyword"
   ]
  },
  {
   "cell_type": "code",
   "execution_count": null,
   "metadata": {
    "vscode": {
     "languageId": "r"
    }
   },
   "outputs": [],
   "source": [
    "all_keyword_ppl <- unique(twofer_df_agg_clean[twofer_df_agg_clean$value %in% c(\"G35\", \"340\"),]$person)\n",
    "length(all_keyword_ppl)"
   ]
  },
  {
   "cell_type": "code",
   "execution_count": null,
   "metadata": {
    "vscode": {
     "languageId": "r"
    }
   },
   "outputs": [],
   "source": [
    "ebv_pos <- vector(mode=\"integer\", length=10)\n",
    "ebv_ms <- vector(mode=\"integer\", length=10)\n",
    "p.value <- vector(mode=\"numeric\", length=10)\n",
    "OR <- vector(mode=\"numeric\", length=10)\n",
    "conf.inf.lower <- vector(mode=\"numeric\", length=10)\n",
    "conf.inf.higher <- vector(mode=\"numeric\", length=10)"
   ]
  },
  {
   "cell_type": "code",
   "execution_count": null,
   "metadata": {
    "vscode": {
     "languageId": "r"
    }
   },
   "outputs": [],
   "source": [
    "i = 1\n",
    "thresholds <- c(0, 0.0015, 0.0018, 0.002, 0.003, 0.004, 0.005, 0.007, 0.012, 0.015, 0.03)\n",
    "\n",
    "for(thresh in thresholds){\n",
    "    # Define whether a person with demographic info has MS\n",
    "    thresh_col <- paste0(\"ebv_q30_\", thresh)\n",
    " \n",
    "    # Get overlap of ppl with EBV and with MS\n",
    "    ebv_ms[[i]] <- length(intersect(all_keyword_ppl, ebv_30x_df_EUR[ebv_30x_df_EUR[[thresh_col]] == 1,]$person))\n",
    "    \n",
    "    # Get number of ppl with EBV\n",
    "    ebv_pos[[i]] <- length(ebv_30x_df_EUR[ebv_30x_df_EUR[[thresh_col]] == 1,]$person)\n",
    "    \n",
    "    # Fisher test on having a set of MS-associated codes and having EBV\n",
    "    mdf_clean$outcome <- as.numeric(ebv_30x_df_EUR$person %in% all_keyword_ppl)\n",
    "    ft <- fisher.test(mdf_clean[[thresh_col]], mdf_clean$outcome, conf.int = TRUE)\n",
    "    p.value[[i]] <- ft$p.value\n",
    "    OR[[i]] <- ft$estimate\n",
    "    conf.inf.lower[[i]] <- ft$conf.int[1]\n",
    "    conf.inf.higher[[i]] <- ft$conf.int[2]\n",
    "\n",
    "    i = i + 1\n",
    "}"
   ]
  },
  {
   "cell_type": "code",
   "execution_count": null,
   "metadata": {
    "vscode": {
     "languageId": "r"
    }
   },
   "outputs": [],
   "source": [
    "ms_ebv_df <- data.frame(Q30_threshold = thresholds, \n",
    "                        EBV_MS_DP = ebv_ms,\n",
    "                        EBV_MS_proportion = ebv_ms/length(all_keyword_ppl),\n",
    "                        P_VALUE = p.value,\n",
    "                        CI_LOWER = conf.inf.lower,\n",
    "                        CI_HIGHER = conf.inf.higher,\n",
    "                        OR = OR)\n",
    "\n",
    "ms_ebv_df\n",
    "\n",
    "ggplot(ms_ebv_df, aes(x=Q30_threshold,y=EBV_MS_DP)) + \n",
    "    geom_bar(stat=\"identity\") +\n",
    "    theme_minimal() + \n",
    "    labs(title=\"Number of EBV+ MS+ people\", x=\"EBV Q30 threshold\", y=\"Codes\")\n",
    "\n",
    "ggplot(ms_ebv_df, aes(x=Q30_threshold,y=EBV_MS_proportion)) + \n",
    "    geom_bar(stat=\"identity\") +\n",
    "    theme_minimal() + \n",
    "    labs(title=\"Proportion of EBV+ MS+ people in MS+ people\", x=\"EBV Q30 threshold\", y=\"% EBV+\")"
   ]
  }
 ],
 "metadata": {
  "language_info": {
   "name": "python"
  }
 },
 "nbformat": 4,
 "nbformat_minor": 2
}
