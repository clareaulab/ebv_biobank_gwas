{
 "cells": [
  {
   "cell_type": "markdown",
   "metadata": {},
   "source": [
    "# Clean up ICD code annotations"
   ]
  },
  {
   "cell_type": "markdown",
   "metadata": {},
   "source": [
    "For easier interpretation of ICD code-related files, this script generates a cleaned-up version with the fields Code, Code_Description, Phecode_Description, and Excl_Phenotypes."
   ]
  },
  {
   "cell_type": "code",
   "execution_count": null,
   "metadata": {
    "vscode": {
     "languageId": "r"
    }
   },
   "outputs": [],
   "source": [
    "# Load libraries\n",
    "suppressMessages(library(data.table))\n",
    "suppressMessages(library(dplyr))\n",
    "setwd('/home/jupyter/workspaces/ebvphewas')"
   ]
  },
  {
   "cell_type": "markdown",
   "metadata": {},
   "source": [
    "Load in the files (queried from `01_Query_PheWAS_inputs`):"
   ]
  },
  {
   "cell_type": "code",
   "execution_count": null,
   "metadata": {
    "vscode": {
     "languageId": "r"
    }
   },
   "outputs": [],
   "source": [
    "ICD10_Phecodes <- fread(\"Phecode_map_v1_2_icd10cm_beta.csv\")\n",
    "ICD9_Phecodes <- fread(\"ICDPhecodes\")"
   ]
  },
  {
   "cell_type": "markdown",
   "metadata": {},
   "source": [
    "Check that there are no codes overlapping between the two:"
   ]
  },
  {
   "cell_type": "code",
   "execution_count": null,
   "metadata": {
    "vscode": {
     "languageId": "r"
    }
   },
   "outputs": [],
   "source": [
    "intersect(ICD10_Phecodes$ICD10CM, ICD9_Phecodes$ICD9)"
   ]
  },
  {
   "cell_type": "markdown",
   "metadata": {},
   "source": [
    "Collapse both dataframes into one:"
   ]
  },
  {
   "cell_type": "code",
   "execution_count": null,
   "metadata": {
    "vscode": {
     "languageId": "r"
    }
   },
   "outputs": [],
   "source": [
    "ICD10_Phecodes <- ICD10_Phecodes %>%\n",
    "select(-PHECODE, -`Excl. Phecodes`) %>% \n",
    "dplyr::rename(id_one = ICD10CM,\n",
    "              Code_Description = ICD10CM_DESCRIPTION,\n",
    "              Phecode_Description = PHECODE_DESCRIPTION,\n",
    "              Excl_Phenotypes = `Excl. Phenotypes`) %>%\n",
    "mutate(Code = \"ICD10CM\")\n",
    "\n",
    "head(ICD10_Phecodes)"
   ]
  },
  {
   "cell_type": "code",
   "execution_count": null,
   "metadata": {
    "vscode": {
     "languageId": "r"
    }
   },
   "outputs": [],
   "source": [
    "ICD9_Phecodes <- ICD9_Phecodes %>%\n",
    "select(-PheCode, -`Excl. Phecodes`, -Rollup, -Leaf, -`Ignore Bool`) %>% \n",
    "dplyr::rename(id_one = ICD9,\n",
    "              Code_Description = `ICD9 String`,\n",
    "              Phecode_Description = Phenotype,\n",
    "              Excl_Phenotypes = `Excl. Phenotypes`) %>%\n",
    "mutate(Code = \"ICD9\")\n",
    "\n",
    "head(ICD9_Phecodes)"
   ]
  },
  {
   "cell_type": "code",
   "execution_count": null,
   "metadata": {
    "vscode": {
     "languageId": "r"
    }
   },
   "outputs": [],
   "source": [
    "ICD_Phecodes <- rbind(ICD10_Phecodes, ICD9_Phecodes)\n",
    "head(ICD_Phecodes)"
   ]
  },
  {
   "cell_type": "code",
   "execution_count": null,
   "metadata": {
    "vscode": {
     "languageId": "r"
    }
   },
   "outputs": [],
   "source": [
    "fwrite(ICD_Phecodes, \"ICD_Phecodes_All.csv\")"
   ]
  }
 ],
 "metadata": {
  "language_info": {
   "name": "python"
  }
 },
 "nbformat": 4,
 "nbformat_minor": 2
}
