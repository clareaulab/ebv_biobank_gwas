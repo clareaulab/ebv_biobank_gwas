{
 "cells": [
  {
   "cell_type": "markdown",
   "metadata": {},
   "source": [
    "# EBV DNA covariates"
   ]
  },
  {
   "cell_type": "markdown",
   "metadata": {},
   "source": [
    "Consolidating various pieces of information from these dataframes:\n",
    "- `ebv_equivalent_30x.csv`: the amount of EBV per person, normalized by 30x WGS coverage. See `01_Quantify_EBV_DNA`.\n",
    "- `genomic_metrics.tsv`: includes `sex_at_birth` and `biosample_collection_date`.\n",
    "- `demographic_df.csv`: includes `birth_datetime`. See `EBV_DNA_PheWAS/01_Query_PheWAS_inputs.ipynb`."
   ]
  },
  {
   "cell_type": "code",
   "execution_count": null,
   "metadata": {
    "vscode": {
     "languageId": "r"
    }
   },
   "outputs": [],
   "source": [
    "# Load in libraries\n",
    "suppressMessages(library(data.table))\n",
    "suppressMessages(library(dplyr))\n",
    "library(fastglm)\n",
    "library(ggplot2)\n",
    "library(BuenColors)\n",
    "library(lubridate)\n",
    "setwd('/home/jupyter/workspaces/ebvdnaphewas')"
   ]
  },
  {
   "cell_type": "markdown",
   "metadata": {},
   "source": [
    "## EBV DNA quantification for everyone with WGS"
   ]
  },
  {
   "cell_type": "code",
   "execution_count": null,
   "metadata": {
    "vscode": {
     "languageId": "r"
    }
   },
   "outputs": [],
   "source": [
    "ebv_30x_df <- fread(\"../intermediate/ebv_equivalent_30x.csv\")"
   ]
  },
  {
   "cell_type": "markdown",
   "metadata": {},
   "source": [
    "To compare between masked and unmasked quantification, add the EBV quantification for all bases, including `wiped_here` positions:"
   ]
  },
  {
   "cell_type": "code",
   "execution_count": null,
   "metadata": {
    "vscode": {
     "languageId": "r"
    }
   },
   "outputs": [],
   "source": [
    "# this is a dataframe of EBV reads quantified per person (across all positions)\n",
    "# mostly to get the IDs of people who have any EBV reads, before bias correction\n",
    "ebv_DNA_unmasked <- fread(\"../data/ebv_reads_counts.tsv.gz\")"
   ]
  },
  {
   "cell_type": "markdown",
   "metadata": {},
   "source": [
    "There are a lot of people with reads at only `wipe_here` positions! Add this information in the `ebv_summary_df` in the section \"Plot Classifications\"."
   ]
  },
  {
   "cell_type": "code",
   "execution_count": null,
   "metadata": {
    "vscode": {
     "languageId": "r"
    }
   },
   "outputs": [],
   "source": [
    "table(ebv_DNA_unmasked$n_q30 > 0) # everyone with some q30 reads"
   ]
  },
  {
   "cell_type": "code",
   "execution_count": null,
   "metadata": {
    "vscode": {
     "languageId": "r"
    }
   },
   "outputs": [],
   "source": [
    "table(ebv_30x_df$ebv_q30_30x > 0.0018) # everyone with reads at non-wipe here positions + passed 0018 threshold"
   ]
  },
  {
   "cell_type": "markdown",
   "metadata": {},
   "source": [
    "### Apply the same thresholds as in UKB"
   ]
  },
  {
   "cell_type": "code",
   "execution_count": null,
   "metadata": {
    "vscode": {
     "languageId": "r"
    }
   },
   "outputs": [],
   "source": [
    "thresholds <- c(0, 0.0015, 0.0018, 0.002, 0.003, 0.004, 0.005, 0.007, 0.012, 0.015, 0.03)"
   ]
  },
  {
   "cell_type": "code",
   "execution_count": null,
   "metadata": {
    "vscode": {
     "languageId": "r"
    }
   },
   "outputs": [],
   "source": [
    "counts <- vector(mode=\"integer\", length=length(thresholds))\n",
    "i = 1\n",
    "\n",
    "for(thresh in thresholds){\n",
    "    ebv_thresh <- ebv_30x_df %>% filter(ebv_q30_30x > thresh) \n",
    "    counts[i] <- nrow(ebv_thresh)\n",
    "    i = i + 1\n",
    "}\n",
    "\n",
    "count.per.thresh <- data.frame(threshold = thresholds, EBV_count = counts)"
   ]
  },
  {
   "cell_type": "markdown",
   "metadata": {},
   "source": [
    "### Convert thresholds to various units"
   ]
  },
  {
   "cell_type": "code",
   "execution_count": null,
   "metadata": {
    "vscode": {
     "languageId": "r"
    }
   },
   "outputs": [],
   "source": [
    "count.per.thresh %>%\n",
    "dplyr::mutate(\n",
    "threshold_1c = threshold / 15, # amount of EBV genomes per cell\n",
    "threshold_cells = 1 / (threshold / 15), # amount of cells per EBV genome\n",
    "threshold_10Kc = threshold / 15 * 10^4, # amount of EBV genomes per 10K cells\n",
    ")"
   ]
  },
  {
   "cell_type": "code",
   "execution_count": null,
   "metadata": {
    "vscode": {
     "languageId": "r"
    }
   },
   "outputs": [],
   "source": [
    "ebv_30x_df$ebv_q30_1c <- ebv_30x_df$ebv_q30_30x / 15 # amount of EBV genomes per cell\n",
    "ebv_30x_df$ebv_q30_cells <- 1 / ebv_30x_df$ebv_q30_1c # amount of cells per EBV genome\n",
    "head(ebv_30x_df)"
   ]
  },
  {
   "cell_type": "markdown",
   "metadata": {},
   "source": [
    "Plot cumulative frequency:"
   ]
  },
  {
   "cell_type": "code",
   "execution_count": null,
   "metadata": {
    "vscode": {
     "languageId": "r"
    }
   },
   "outputs": [],
   "source": [
    "# calculate cumulative frequency\n",
    "freq_table <- as.data.frame(table(ebv_30x_df$ebv_q30_cells))\n",
    "freq_table$cumulative_freq <- cumsum(freq_table$Freq)\n",
    "total_count <- sum(freq_table$Freq)\n",
    "freq_table$cumulative_freq_percent <- (freq_table$cumulative_freq / total_count) * 100\n",
    "freq_table$cumulative_freq_percent_rev <- 100 - freq_table$cumulative_freq_percent\n",
    "freq_table$ebv_q30_cells <- as.numeric(as.character(freq_table$Var1))\n",
    "freq_table$ebv_q30_cells_log <- log10(freq_table$ebv_q30_cells)\n",
    "p0 <- ggplot(freq_table, aes(x = ebv_q30_cells_log, y = cumulative_freq_percent_rev)) +\n",
    "  geom_step() +\n",
    "  labs(x = \"Estimated # human cells per EBV genome (log10 scaled)\",\n",
    "       y = \"Cumulative Frequency (%)\") +\n",
    "  scale_x_reverse() +\n",
    "  pretty_plot(fontsize = 8) + L_border() "
   ]
  },
  {
   "cell_type": "markdown",
   "metadata": {},
   "source": [
    "Plot the top 100 people with the most EBV DNA load:"
   ]
  },
  {
   "cell_type": "code",
   "execution_count": null,
   "metadata": {
    "vscode": {
     "languageId": "r"
    }
   },
   "outputs": [],
   "source": [
    "ebv_30x_df <- ebv_30x_df %>% dplyr::arrange(desc(ebv_q30_30x)) %>% dplyr::mutate(rank_q30 = 1:n())\n",
    "ebv_top100 <- ebv_30x_df[ebv_30x_df$rank_q30 <= 100,]\n",
    "\n",
    "p1 <- ggplot(ebv_top100, aes(x = rank_q30, y = ebv_q30_cells)) + \n",
    "  geom_point(size = 0.5) +\n",
    "  labs(x = \"Top 100 AOU donors ranked\",\n",
    "       y = \"# human cells per EBV genome\") +\n",
    "  scale_x_reverse() +\n",
    "  scale_y_reverse() +\n",
    "  pretty_plot(fontsize = 8) + L_border() "
   ]
  },
  {
   "cell_type": "markdown",
   "metadata": {},
   "source": [
    "### Annotate each individual based on whether they passed EBV thresholds"
   ]
  },
  {
   "cell_type": "code",
   "execution_count": null,
   "metadata": {
    "vscode": {
     "languageId": "r"
    }
   },
   "outputs": [],
   "source": [
    "for(thresh in thresholds){\n",
    "    thresh_col <- paste0(\"ebv_q30_\", thresh)\n",
    "    ebv_30x_df[[thresh_col]] <- as.numeric(ebv_30x_df$ebv_q30_30x > thresh)\n",
    "}\n",
    "head(ebv_30x_df)"
   ]
  },
  {
   "cell_type": "markdown",
   "metadata": {},
   "source": [
    "## Get covariates"
   ]
  },
  {
   "cell_type": "code",
   "execution_count": null,
   "metadata": {
    "vscode": {
     "languageId": "r"
    }
   },
   "outputs": [],
   "source": [
    "# get sex_at_birth \n",
    "gm <- data.frame(fread(\"../data/genomic_metrics.tsv\")) %>% \n",
    "        rename(person = research_id)\n",
    "gm <- gm %>% dplyr::select(person, sex_at_birth, biosample_collection_date)\n",
    "gm[gm == \"\"] <- NA\n",
    "\n",
    "# get date of birth \n",
    "demo_df <- fread(\"../data/demographic_df.csv\") %>% dplyr::select(person_id, birth_datetime)"
   ]
  },
  {
   "cell_type": "code",
   "execution_count": null,
   "metadata": {
    "vscode": {
     "languageId": "r"
    }
   },
   "outputs": [],
   "source": [
    "gm <- gm %>% dplyr::left_join(demo_df, by = c(\"person\" = \"person_id\"))"
   ]
  },
  {
   "cell_type": "code",
   "execution_count": null,
   "metadata": {
    "vscode": {
     "languageId": "r"
    }
   },
   "outputs": [],
   "source": [
    "# Get age at time of biosample collection\n",
    "gm <- gm %>% dplyr::mutate(\n",
    "        age = floor(interval(start = birth_datetime, end = biosample_collection_date)\n",
    "                            / duration(num = 1, units = 'years')))"
   ]
  },
  {
   "cell_type": "markdown",
   "metadata": {},
   "source": [
    "## Plot classifications"
   ]
  },
  {
   "cell_type": "code",
   "execution_count": null,
   "metadata": {
    "vscode": {
     "languageId": "r"
    }
   },
   "outputs": [],
   "source": [
    "# adding in total q30 per person, before wipe_here\n",
    "ebv_DNA_unmasked <- fread(\"../data/ebv_reads_counts.tsv.gz\")\n",
    "ebv_DNA_unmasked <- ebv_DNA_unmasked %>%\n",
    "dplyr::mutate(\n",
    "    person = as.integer(gsub(\"ebv_\", \"\", sample)), \n",
    "    has_unmasked_q30 = as.numeric(n_q30 > 0)) %>%\n",
    "dplyr::select(person, has_unmasked_q30)"
   ]
  },
  {
   "cell_type": "code",
   "execution_count": null,
   "metadata": {
    "vscode": {
     "languageId": "r"
    }
   },
   "outputs": [],
   "source": [
    "ebv_30x_df <- ebv_30x_df %>% dplyr::left_join(ebv_DNA_unmasked, by = \"person\")"
   ]
  },
  {
   "cell_type": "code",
   "execution_count": null,
   "metadata": {
    "vscode": {
     "languageId": "r"
    }
   },
   "outputs": [],
   "source": [
    "ebv_df_summary <- ebv_30x_df %>%\n",
    "  dplyr::select(person, ebv_q30_30x, has_unmasked_q30) %>%\n",
    "  mutate(what = case_when(\n",
    "    ebv_q30_30x > 0.0018 ~ \"yes\", # passed 0018 threshold \n",
    "    ebv_q30_30x > 0 ~ \"valid\", # passed 0 threshold but not 0018 threshold\n",
    "    has_unmasked_q30 > 0 ~ \"biased\", # had q30 reads, but not after wipe-here\n",
    "    TRUE ~ \"anothing\" # else\n",
    "  )) %>%\n",
    "  group_by(what) %>%\n",
    "  summarize(count = n()) %>%\n",
    "  mutate(perc = count / sum(count)*100)\n",
    "\n",
    "p2 <- ggplot(ebv_df_summary, aes(x = what, y = perc)) +\n",
    "  geom_bar(stat = \"identity\", fill = \"lightgrey\", color = \"black\") + \n",
    "  pretty_plot(fontsize = 8) + L_border() + \n",
    "  scale_y_continuous(expand = c(0,0))"
   ]
  },
  {
   "cell_type": "code",
   "execution_count": null,
   "metadata": {
    "vscode": {
     "languageId": "r"
    }
   },
   "outputs": [],
   "source": [
    "# check that numbers are correct\n",
    "table(ebv_30x_df$has_unmasked_q30 == 0)\n",
    "table(ebv_30x_df$has_unmasked_q30 > 0, ebv_30x_df$ebv_q30_30x > 0)\n",
    "table(ebv_30x_df$ebv_q30_30x > 0, ebv_30x_df$ebv_q30_30x > 0.0018)"
   ]
  },
  {
   "cell_type": "markdown",
   "metadata": {},
   "source": [
    "## Plot age \\* sex_at_birth"
   ]
  },
  {
   "cell_type": "code",
   "execution_count": null,
   "metadata": {
    "vscode": {
     "languageId": "r"
    }
   },
   "outputs": [],
   "source": [
    "# merge gm with ebv_30x_df\n",
    "ebv_df <- ebv_30x_df %>% \n",
    "dplyr::left_join(gm, by = \"person\")\n",
    "ebv_df$sex_at_birth <- factor(ebv_df$sex_at_birth, levels = c(\"M\", \"F\"))\n",
    "ebv_df <- ebv_df %>%\n",
    "dplyr::select(person, sex_at_birth, age, ebv_q30_0.0018) %>%\n",
    "dplyr::rename(has_ebv = ebv_q30_0.0018)"
   ]
  },
  {
   "cell_type": "markdown",
   "metadata": {},
   "source": [
    "There are 1900 people without `age` and 2852 people without `sex_at_birth`. Remove them from the analysis."
   ]
  },
  {
   "cell_type": "code",
   "execution_count": null,
   "metadata": {
    "vscode": {
     "languageId": "r"
    }
   },
   "outputs": [],
   "source": [
    "ebv_df[ebv_df == \"\"] <- NA"
   ]
  },
  {
   "cell_type": "code",
   "execution_count": null,
   "metadata": {
    "vscode": {
     "languageId": "r"
    }
   },
   "outputs": [],
   "source": [
    "nrow(ebv_df[is.na(ebv_df$age)])"
   ]
  },
  {
   "cell_type": "code",
   "execution_count": null,
   "metadata": {
    "vscode": {
     "languageId": "r"
    }
   },
   "outputs": [],
   "source": [
    "min(ebv_df$age, na.rm = T)\n",
    "max(ebv_df$age, na.rm = T)"
   ]
  },
  {
   "cell_type": "code",
   "execution_count": null,
   "metadata": {
    "vscode": {
     "languageId": "r"
    }
   },
   "outputs": [],
   "source": [
    "table(ebv_df$sex_at_birth)"
   ]
  },
  {
   "cell_type": "code",
   "execution_count": null,
   "metadata": {
    "vscode": {
     "languageId": "r"
    }
   },
   "outputs": [],
   "source": [
    "nrow(ebv_df[is.na(ebv_df$sex_at_birth)])"
   ]
  },
  {
   "cell_type": "code",
   "execution_count": null,
   "metadata": {
    "vscode": {
     "languageId": "r"
    }
   },
   "outputs": [],
   "source": [
    "ebv_df <- ebv_df %>% na.omit()\n",
    "nrow(ebv_df)"
   ]
  },
  {
   "cell_type": "code",
   "execution_count": null,
   "metadata": {
    "vscode": {
     "languageId": "r"
    }
   },
   "outputs": [],
   "source": [
    "# make summary stat plots\n",
    "# % EBV+ per age bucket (decades)\n",
    "# Assign to age group\n",
    "# min(eur_re$age) == 18, max(eur_re$age) == 88\n",
    "\n",
    "year_interval <- 5\n",
    "\n",
    "ebv_df <- ebv_df %>%\n",
    "  mutate(age_group = cut(age, breaks = seq(0, 100, by = year_interval), \n",
    "                         labels = paste(seq(0, 100 - year_interval, by = year_interval), \"-\", seq(5, 100, by = year_interval)), \n",
    "                         right = FALSE))"
   ]
  },
  {
   "cell_type": "code",
   "execution_count": null,
   "metadata": {
    "vscode": {
     "languageId": "r"
    }
   },
   "outputs": [],
   "source": [
    "ebv_df %>% dplyr::group_by(sex_at_birth, age_group) %>% dplyr::summarize(count = n())"
   ]
  },
  {
   "cell_type": "code",
   "execution_count": null,
   "metadata": {
    "vscode": {
     "languageId": "r"
    }
   },
   "outputs": [],
   "source": [
    "ebv_df %>% dplyr::group_by(age_group) %>% dplyr::summarize(count = n())"
   ]
  },
  {
   "cell_type": "code",
   "execution_count": null,
   "metadata": {
    "vscode": {
     "languageId": "r"
    }
   },
   "outputs": [],
   "source": [
    "df_age_group <- ebv_df %>%\n",
    "  # dplyr::filter(age >= 40) %>% # ages seem pretty evenly spread out, so not filtering here\n",
    "  dplyr::group_by(age_group, sex_at_birth) %>%\n",
    "  dplyr::summarise(ebv_positive_percent = mean(has_ebv == 1) * 100, \n",
    "                   var = var( (has_ebv == 1)), hits = sum(has_ebv == 1) ,\n",
    "                   count = n()) %>% mutate(sem = (ebv_positive_percent)/sqrt(var*count))"
   ]
  },
  {
   "cell_type": "code",
   "execution_count": null,
   "metadata": {
    "vscode": {
     "languageId": "r"
    }
   },
   "outputs": [],
   "source": [
    "pagesex <- ggplot(df_age_group, aes(x = age_group, y = ebv_positive_percent, fill = as.factor(sex_at_birth))) +\n",
    "  geom_bar(stat = \"identity\", color = \"black\", position = position_dodge()) +\n",
    "  labs(x = \"Age Group\", y = \"Percentage of EBV+ (%)\") +\n",
    "  theme_minimal() + \n",
    "  theme(axis.text.x = element_text(angle = 45, hjust = 1))  + \n",
    "  pretty_plot(fontsize = 8) + L_border() +\n",
    "  geom_errorbar(aes( ymin=ebv_positive_percent-sem, ymax=ebv_positive_percent+sem), width=0.2, position = position_dodge(.9)) +\n",
    "  scale_y_continuous(expand = c(0,0)) +\n",
    "  scale_fill_manual(values = c(\"lightgrey\", \"darkgrey\")) "
   ]
  },
  {
   "cell_type": "markdown",
   "metadata": {},
   "source": [
    "Get the p-values for each age group:"
   ]
  },
  {
   "cell_type": "code",
   "execution_count": null,
   "metadata": {
    "vscode": {
     "languageId": "r"
    }
   },
   "outputs": [],
   "source": [
    "lapply(unique(df_age_group$age_group), function(oag){\n",
    "  ssdf <- df_age_group %>% filter(age_group == oag)\n",
    "  data.frame(oag, p = (prop.test(x = ssdf$hits, n = ssdf$count))[[\"p.value\"]])\n",
    "}) %>% rbindlist()"
   ]
  },
  {
   "cell_type": "markdown",
   "metadata": {
    "vscode": {
     "languageId": "plaintext"
    }
   },
   "source": [
    "## Subset covariates to only EUR individuals"
   ]
  },
  {
   "cell_type": "markdown",
   "metadata": {},
   "source": [
    "This section generates the files that are inputs to the `02_Format_input_files.ipynb` notebook in the `EBV DNA GWAS` folder, specifically:\n",
    "- `ebv_EUR_0018.csv`\n",
    "- `all_covariates_EUR.csv`\n",
    "* NOTE: for running EBV DNA as a quantitative trait, the `ebv_30x_df_EUR` dataframe was used.\n",
    "\n",
    "To get covariates files for EUR individuals, refer to the ancestry file and descriptions here:\n",
    "- https://support.researchallofus.org/hc/en-us/articles/4614687617556-How-the-All-of-Us-Genomic-data-are-organized-Archived-C2022Q4R13-CDRv7\n",
    "- https://support.researchallofus.org/hc/en-us/articles/29475233432212-Controlled-CDR-Directory \n",
    "- Google bucket filepath: gs://fc-aou-datasets-controlled/v8/wgs/short_read/snpindel/aux/ancestry/ancestry_preds.tsv"
   ]
  },
  {
   "cell_type": "code",
   "execution_count": null,
   "metadata": {
    "vscode": {
     "languageId": "r"
    }
   },
   "outputs": [],
   "source": [
    "ancestry <- fread(\"../data/ancestry_preds.tsv\")"
   ]
  },
  {
   "cell_type": "code",
   "execution_count": null,
   "metadata": {
    "vscode": {
     "languageId": "r"
    }
   },
   "outputs": [],
   "source": [
    "ancestry <- ancestry %>% dplyr::rename(person = person_id)"
   ]
  },
  {
   "cell_type": "code",
   "execution_count": null,
   "metadata": {
    "vscode": {
     "languageId": "r"
    }
   },
   "outputs": [],
   "source": [
    "ancestry_covar <- ancestry %>% dplyr::select(person, sex_at_birth, ancestry_pred, pca_features)"
   ]
  },
  {
   "cell_type": "code",
   "execution_count": null,
   "metadata": {
    "vscode": {
     "languageId": "r"
    }
   },
   "outputs": [],
   "source": [
    "ancestry_covar_EUR <- ancestry_covar %>% dplyr::filter(ancestry_pred == \"eur\")"
   ]
  },
  {
   "cell_type": "code",
   "execution_count": null,
   "metadata": {
    "vscode": {
     "languageId": "r"
    }
   },
   "outputs": [],
   "source": [
    "nrow(ancestry_covar_EUR) # 133578"
   ]
  },
  {
   "cell_type": "code",
   "execution_count": null,
   "metadata": {
    "vscode": {
     "languageId": "r"
    }
   },
   "outputs": [],
   "source": [
    "nrow(ancestry_covar_EUR) # 133578\n",
    "nrow(ebv_30x_df) # 245394\n",
    "nrow(gm) # 245394\n",
    "length(intersect(ancestry_covar_EUR$person, ebv_30x_df$person)) # 133578\n",
    "length(intersect(ancestry_covar_EUR$person, gm$person)) # 133578\n",
    "length(intersect(intersect(ancestry_covar_EUR$person, gm$person), ebv_30x_df$person)) # 133578"
   ]
  },
  {
   "cell_type": "code",
   "execution_count": null,
   "metadata": {
    "vscode": {
     "languageId": "r"
    }
   },
   "outputs": [],
   "source": [
    "ebv_30x_df_EUR <- ebv_30x_df[ebv_30x_df$person %in% ancestry_covar_EUR$person,]\n",
    "gm_EUR <- gm[gm$person %in% ancestry_covar_EUR$person,]"
   ]
  },
  {
   "cell_type": "markdown",
   "metadata": {},
   "source": [
    "Write EBV DNA phenotype file for (1) all thresholds (2) only 0.0018: "
   ]
  },
  {
   "cell_type": "code",
   "execution_count": null,
   "metadata": {
    "vscode": {
     "languageId": "r"
    }
   },
   "outputs": [],
   "source": [
    "fwrite(ebv_30x_df_EUR, file = \"EBV_GWAS_data/EUR/ebv_30x_df_EUR_allthresh.csv\", row.names = FALSE, sep = \"\\t\", quote = FALSE)"
   ]
  },
  {
   "cell_type": "code",
   "execution_count": null,
   "metadata": {
    "vscode": {
     "languageId": "r"
    }
   },
   "outputs": [],
   "source": [
    "pheno_df <- ebv_30x_df_EUR %>% \n",
    "dplyr::select(person, ebv_q30_0.0018) %>%\n",
    "dplyr::rename(has_ebv = ebv_q30_0.0018)"
   ]
  },
  {
   "cell_type": "code",
   "execution_count": null,
   "metadata": {
    "vscode": {
     "languageId": "r"
    }
   },
   "outputs": [],
   "source": [
    "fwrite(pheno_df, file = \"EBV_GWAS_data/EUR/ebv_EUR_0018.csv\", row.names = FALSE, sep = \"\\t\", quote = FALSE)"
   ]
  },
  {
   "cell_type": "markdown",
   "metadata": {},
   "source": [
    "Consolidate covariates file (for input to EBV GWAS):"
   ]
  },
  {
   "cell_type": "code",
   "execution_count": null,
   "metadata": {
    "vscode": {
     "languageId": "r"
    }
   },
   "outputs": [],
   "source": [
    "ancestry_covar_EUR <- ancestry_covar_EUR %>% dplyr::select(-sex_at_birth)"
   ]
  },
  {
   "cell_type": "code",
   "execution_count": null,
   "metadata": {
    "vscode": {
     "languageId": "r"
    }
   },
   "outputs": [],
   "source": [
    "gm_EUR <- gm_EUR %>% dplyr::left_join(ancestry_covar_EUR, by = c(\"person\" = \"person\"))"
   ]
  },
  {
   "cell_type": "code",
   "execution_count": null,
   "metadata": {
    "vscode": {
     "languageId": "r"
    }
   },
   "outputs": [],
   "source": [
    "# has person, sex_at_birth, age, pca_features, and age2\n",
    "gm_EUR <- gm_EUR %>%\n",
    "dplyr::select(-biosample_collection_date, -birth_datetime, -ancestry_pred) %>%\n",
    "dplyr::mutate(age2 = age^2)"
   ]
  },
  {
   "cell_type": "markdown",
   "metadata": {},
   "source": [
    "Convert the `pca_features` values to lists, then to individual PC columns."
   ]
  },
  {
   "cell_type": "code",
   "execution_count": null,
   "metadata": {
    "vscode": {
     "languageId": "r"
    }
   },
   "outputs": [],
   "source": [
    "library(jsonlite)\n",
    "# convert pca_features column to lists \n",
    "gm_EUR$pca_features <- lapply(gm_EUR$pca_features, function(x) fromJSON(x))\n",
    "\n",
    "# extract each PCA feature and create new columns in covariate_df\n",
    "for (i in 0:14) {\n",
    "  gm_EUR[[paste0(\"PC\", i + 1)]] <- sapply(gm_EUR$pca_features, function(t) t[[i + 1]])\n",
    "}"
   ]
  },
  {
   "cell_type": "code",
   "execution_count": null,
   "metadata": {
    "vscode": {
     "languageId": "r"
    }
   },
   "outputs": [],
   "source": [
    "gm_EUR <- gm_EUR %>% dplyr::select(-pca_features)"
   ]
  },
  {
   "cell_type": "code",
   "execution_count": null,
   "metadata": {
    "vscode": {
     "languageId": "r"
    }
   },
   "outputs": [],
   "source": [
    "fwrite(gm_EUR, file = \"EBV_GWAS_data/EUR/all_covariates_EUR.csv\", row.names = FALSE, sep = \"\\t\", quote = FALSE)"
   ]
  }
 ],
 "metadata": {
  "language_info": {
   "name": "python"
  }
 },
 "nbformat": 4,
 "nbformat_minor": 2
}
