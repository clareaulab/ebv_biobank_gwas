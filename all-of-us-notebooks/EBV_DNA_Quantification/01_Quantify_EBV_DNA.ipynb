{
 "cells": [
  {
   "cell_type": "markdown",
   "metadata": {},
   "source": [
    "# EBV DNA Quantification"
   ]
  },
  {
   "cell_type": "markdown",
   "metadata": {},
   "source": [
    "We hypothesize that latent EBV DNA in the blood for all participants in AoU can be quantified by the reads captured by chrEBV (hg38) in each participant's WGS data. "
   ]
  },
  {
   "cell_type": "code",
   "execution_count": null,
   "metadata": {
    "vscode": {
     "languageId": "r"
    }
   },
   "outputs": [],
   "source": [
    "# Set workspace directory\n",
    "setwd(\"/home/jupyter\")"
   ]
  },
  {
   "cell_type": "code",
   "execution_count": null,
   "metadata": {
    "vscode": {
     "languageId": "r"
    }
   },
   "outputs": [],
   "source": [
    "# Import libraries\n",
    "library(data.table)\n",
    "library(dplyr)\n",
    "library(BiocParallel)\n",
    "library(GenomicAlignments)\n",
    "library(ggplot2)\n",
    "# Set google project ID\n",
    "gproj = \"terra-vpc-sc-a92a14ba\""
   ]
  },
  {
   "cell_type": "markdown",
   "metadata": {},
   "source": [
    "For each individual in AoU, get the Q30 or Q60 coverage for each position on the EBV genome (171823 bp)."
   ]
  },
  {
   "cell_type": "code",
   "execution_count": null,
   "metadata": {
    "vscode": {
     "languageId": "r"
    }
   },
   "outputs": [],
   "source": [
    "ebv_bams <- list.files(\"eb\", pattern = \".bam\")"
   ]
  },
  {
   "cell_type": "code",
   "execution_count": null,
   "metadata": {
    "vscode": {
     "languageId": "r"
    }
   },
   "outputs": [],
   "source": [
    "bplapply(1:length(ebv_bams), BPPARAM = MulticoreParam(96), function(i){\n",
    "    file1 <- ebv_bams[i]\n",
    "    aln <- readGAlignments(paste0(\"eb/\", file1), param=ScanBamParam(what=\"mapq\"))\n",
    "\n",
    "    data.frame(\n",
    "        person = i,\n",
    "  idx = 1:171823,\n",
    "  q30 = as.integer(coverage(aln[aln@elementMetadata$mapq >= 30])[[\"chrEBV\"]]),\n",
    "  q60 = as.integer(coverage(aln[aln@elementMetadata$mapq >= 60])[[\"chrEBV\"]])) %>%\n",
    "        filter(q30 > 0)\n",
    "\n",
    "    })  %>% rbindlist() %>% data.frame() -> cov_df"
   ]
  },
  {
   "cell_type": "markdown",
   "metadata": {},
   "source": [
    "For each position, sum the Q30 (or Q60) reads across all people. "
   ]
  },
  {
   "cell_type": "code",
   "execution_count": null,
   "metadata": {
    "vscode": {
     "languageId": "r"
    }
   },
   "outputs": [],
   "source": [
    "total_bp_df <- cov_df %>% group_by(idx) %>% summarize(total_q30 = sum(q30), total_q60 = sum(q60))"
   ]
  },
  {
   "cell_type": "code",
   "execution_count": null,
   "metadata": {
    "vscode": {
     "languageId": "r"
    }
   },
   "outputs": [],
   "source": [
    "ggplot(total_bp_df,aes(x = idx, y = total_q30)) + geom_point() + scale_y_log10()"
   ]
  },
  {
   "cell_type": "markdown",
   "metadata": {},
   "source": [
    "Get the well-covered and orders-of-magnitude covered regions."
   ]
  },
  {
   "cell_type": "code",
   "execution_count": null,
   "metadata": {
    "vscode": {
     "languageId": "r"
    }
   },
   "outputs": [],
   "source": [
    "# total_bp_df <- readRDS(\"summed_per_bp_ebvgenome.rds\")\n",
    "wipe_here <- total_bp_df %>% filter(total_q30 > 1e3) %>% pull(idx)\n",
    "well_covered <- total_bp_df %>% filter(total_q30 < 1e3 & total_q30 > 100) %>% pull(idx)\n",
    "ggplot(total_bp_df,aes(x = idx, y = total_q30, color = idx %in% wipe_here)) + geom_point() + scale_y_log10()"
   ]
  },
  {
   "cell_type": "code",
   "execution_count": null,
   "metadata": {
    "vscode": {
     "languageId": "r"
    }
   },
   "outputs": [],
   "source": [
    "## NOTE: normalization will be fixed later - should be divided by all not wipe_here positions\n",
    "cov_df %>% filter(!(idx %in% wipe_here)) %>% group_by(person) %>% \n",
    "    summarize(ebv_eq_q30 = sum(q30)/ length(well_covered),\n",
    "              ebv_eq_q60 = sum(q60)/ length(well_covered)) -> total_per_person_equivalents_df"
   ]
  },
  {
   "cell_type": "code",
   "execution_count": null,
   "metadata": {
    "vscode": {
     "languageId": "r"
    }
   },
   "outputs": [],
   "source": [
    "total_per_person_equivalents_df$id <- gsub(\".bam\", \"\", ebv_bams[total_per_person_equivalents_df$person])\n",
    "fwrite(total_per_person_equivalents_df, \"ebv_equivalents_bias.correction.tsv.gz\")"
   ]
  },
  {
   "cell_type": "markdown",
   "metadata": {},
   "source": [
    "For consistency with UKB, we will use Q30 coverage. "
   ]
  },
  {
   "cell_type": "code",
   "execution_count": null,
   "metadata": {
    "vscode": {
     "languageId": "r"
    }
   },
   "outputs": [],
   "source": [
    "wipe_here_q30 <- total_bp_df %>% filter(total_q30 > 1e3) %>% pull(idx)\n",
    "well_covered_q30 <- total_bp_df %>% filter(total_q30 < 1e3 & total_q30 > 100) %>% pull(idx)\n",
    "p1 <- ggplot(total_bp_df,aes(x = idx, y = total_q30, color = idx %in% wipe_here_q30)) + geom_point(size = 0.5) + scale_y_log10() +\n",
    "  labs(y= \"total coverage\", x = \"EBV genome position\") +\n",
    "  scale_color_manual(values = c(\"TRUE\" = \"firebrick\", \"FALSE\" = \"black\")) +\n",
    "  pretty_plot(fontsize = 8) + L_border() + theme(legend.position = \"none\") \n",
    "p1"
   ]
  },
  {
   "cell_type": "markdown",
   "metadata": {},
   "source": [
    "Check the positions of high coverage.\n",
    "\n",
    "The chrEBV fasta file can be obtained here: https://www.ncbi.nlm.nih.gov/nuccore/NC_007605.1 ."
   ]
  },
  {
   "cell_type": "code",
   "execution_count": null,
   "metadata": {
    "vscode": {
     "languageId": "r"
    }
   },
   "outputs": [],
   "source": [
    "library(seqinr)\n",
    "EBV_genome_seq <- seqinr::read.fasta(\"../data/chrEBV_used.fasta\")$chrEBV\n",
    "stopifnot(length(EBV_genome_seq) == max(total_bp_df$idx)) # 171823\n",
    "base_matrix <- t(matrix(EBV_genome_seq, nrow = 1, byrow = TRUE))\n",
    "base_df <- as.data.frame(base_matrix, stringsAsFactors = FALSE)"
   ]
  },
  {
   "cell_type": "code",
   "execution_count": null,
   "metadata": {
    "vscode": {
     "languageId": "r"
    }
   },
   "outputs": [],
   "source": [
    "all_idx <- data.frame(idx = 1: max(total_bp_df$idx))\n",
    "total_bp_df <- merge(all_idx, total_bp_df, by = \"idx\", all.x = TRUE)\n",
    "total_bp_df[is.na(total_bp_df)] <- 0\n",
    "total_bp_df <- total_bp_df[order(total_bp_df$idx), ]\n",
    "total_bp_df$base <- base_df$V1"
   ]
  },
  {
   "cell_type": "code",
   "execution_count": null,
   "metadata": {
    "vscode": {
     "languageId": "r"
    }
   },
   "outputs": [],
   "source": [
    "# Get sequences of wipe_here regions from Q30\n",
    "wipe_here_df <- total_bp_df[total_bp_df$idx %in% wipe_here_q30,] %>%\n",
    "  dplyr::arrange(idx) %>%\n",
    "  dplyr::mutate(group = cumsum(c(TRUE, diff(idx) != 1)))\n",
    "\n",
    "wipe_here_df_seq <- wipe_here_df  %>%\n",
    "  dplyr::group_by(group) %>%\n",
    "  dplyr::summarise(\n",
    "    idx = paste(idx, collapse = \",\"),\n",
    "    seq = paste(base, collapse = \"\"),\n",
    "    .groups = 'drop') %>%\n",
    "  dplyr::select(-group)"
   ]
  },
  {
   "cell_type": "code",
   "execution_count": null,
   "metadata": {
    "vscode": {
     "languageId": "r"
    }
   },
   "outputs": [],
   "source": [
    "wipe_here_df_seq\n",
    "# check individual sequences: \n",
    "# wipe_here_df_seq$seq[1]\n",
    "# wipe_here_df_seq$seq[2]\n",
    "# wipe_here_df_seq$seq[3]\n",
    "# wipe_here_df_seq$seq[4]"
   ]
  },
  {
   "cell_type": "markdown",
   "metadata": {},
   "source": [
    "Get number of positions that have different coverages."
   ]
  },
  {
   "cell_type": "code",
   "execution_count": null,
   "metadata": {
    "vscode": {
     "languageId": "r"
    }
   },
   "outputs": [],
   "source": [
    "length(wipe_here_q30) # 214 too highly covered bases (total_q30 > 10^3)\n",
    "length(well_covered_q30) # 142931 well covered bases (100 < total_q30 < 10^3)\n",
    "length(total_bp_df %>% filter(total_q30 == 0) %>% pull(idx)) # 23513 bases (total_q30 > 0)"
   ]
  },
  {
   "cell_type": "code",
   "execution_count": null,
   "metadata": {
    "vscode": {
     "languageId": "r"
    }
   },
   "outputs": [],
   "source": [
    "not_wiped_q30 <- total_bp_df %>% filter(total_q30 < 1e3 & total_q30 > 0) %>% pull(idx)\n",
    "length(not_wiped_q30)"
   ]
  },
  {
   "cell_type": "markdown",
   "metadata": {},
   "source": [
    "## Normalize EBV genome coverage"
   ]
  },
  {
   "cell_type": "markdown",
   "metadata": {},
   "source": [
    "The genomic metrics file can be obtained as described here: https://support.researchallofus.org/hc/en-us/articles/4614687617556-How-the-All-of-Us-Genomic-data-are-organized-Archived-C2022Q4R13-CDRv7 and here:\n",
    "https://support.researchallofus.org/hc/en-us/articles/29475233432212-Controlled-CDR-Directory .\n",
    "\n",
    "Specifically, these gs bucket paths:\n",
    "- Genetic ancestry and PCs: gs://fc-aou-datasets-controlled/v8/wgs/short_read/snpindel/aux/ancestry/ancestry_preds.tsv\n",
    "- Genomic metrics (sex_at_birth): gs://fc-aou-datasets-controlled/v8/wgs/short_read/snpindel/aux/qc/genomic_metrics.tsv \n",
    "- Demographics (?)"
   ]
  },
  {
   "cell_type": "code",
   "execution_count": null,
   "metadata": {
    "vscode": {
     "languageId": "r"
    }
   },
   "outputs": [],
   "source": [
    "gm <- data.frame(fread(\"../data/genomic_metrics.tsv\"))\n",
    "gm$research_id <- as.character(gm$research_id)"
   ]
  },
  {
   "cell_type": "markdown",
   "metadata": {},
   "source": [
    "Small fix in normalization: `ebv_equivalents_bias.correction.tsv.gz` is the amount of EBV per person when divided by `well_covered` positions (142931 bp). However, the amount of EBV per person was summed over all `not_wiped_q30` positions. Correct the amount by multiplying by `well_covered` positions (142931 bp), then dividing by `not_wiped_q30` positions (148096 bp)."
   ]
  },
  {
   "cell_type": "code",
   "execution_count": null,
   "metadata": {
    "vscode": {
     "languageId": "r"
    }
   },
   "outputs": [],
   "source": [
    "correction <- length(well_covered_q30) / length(not_wiped_q30)"
   ]
  },
  {
   "cell_type": "code",
   "execution_count": null,
   "metadata": {
    "vscode": {
     "languageId": "r"
    }
   },
   "outputs": [],
   "source": [
    "mdf <- merge(gm, ebv, by = \"research_id\", all.x = TRUE)\n",
    "mdf[is.na(mdf)] <- 0\n",
    "# correcting the normalization factor\n",
    "# placing in units of 30x human genome coverage\n",
    "mdf$ebv_compared_wgs_30x <- mdf$ebv_eq_q30 * correction / mdf$mean_coverage * 30 "
   ]
  },
  {
   "cell_type": "markdown",
   "metadata": {},
   "source": [
    "There are 51459 rows in the `ebv` dataframe - everyone who had some EBV reads. "
   ]
  },
  {
   "cell_type": "code",
   "execution_count": null,
   "metadata": {
    "vscode": {
     "languageId": "r"
    }
   },
   "outputs": [],
   "source": [
    "table(mdf$ebv_eq_q30 > 0)"
   ]
  },
  {
   "cell_type": "code",
   "execution_count": null,
   "metadata": {
    "vscode": {
     "languageId": "r"
    }
   },
   "outputs": [],
   "source": [
    "mdf <- mdf %>% \n",
    "    dplyr::rename(person = research_id, ebv_q30_30x = ebv_compared_wgs_30x) %>%\n",
    "    dplyr::select(person, ebv_q30_30x) %>%\n",
    "    arrange(desc(ebv_q30_30x))\n",
    "head(mdf)"
   ]
  },
  {
   "cell_type": "markdown",
   "metadata": {},
   "source": [
    "There are 29249 people in AoU who pass the 0.0018 filter (using the same threshold as in the UKB)."
   ]
  },
  {
   "cell_type": "code",
   "execution_count": null,
   "metadata": {
    "vscode": {
     "languageId": "r"
    }
   },
   "outputs": [],
   "source": [
    "table(mdf$ebv_q30_30x > 0.0018)"
   ]
  },
  {
   "cell_type": "markdown",
   "metadata": {},
   "source": [
    "Rank coverage plot:"
   ]
  },
  {
   "cell_type": "code",
   "execution_count": null,
   "metadata": {
    "vscode": {
     "languageId": "r"
    }
   },
   "outputs": [],
   "source": [
    "mdf %>% arrange(desc(ebv_q30_30x)) %>% mutate(rank = 1:n()) %>%\n",
    "    ggplot(aes(x = rank, y = ebv_q30_30x + 0.0000001)) +\n",
    "    scale_y_log10() + scale_x_log10()+\n",
    "    geom_point() + labs(x = \"person rank\", y = \"normalized Q30 EBV load in 30xWGS\") + theme_bw()"
   ]
  },
  {
   "cell_type": "code",
   "execution_count": null,
   "metadata": {
    "vscode": {
     "languageId": "r"
    }
   },
   "outputs": [],
   "source": [
    "fwrite(mdf, \"../intermediate/ebv_equivalent_30x.csv\")"
   ]
  }
 ],
 "metadata": {
  "language_info": {
   "name": "python"
  }
 },
 "nbformat": 4,
 "nbformat_minor": 2
}
