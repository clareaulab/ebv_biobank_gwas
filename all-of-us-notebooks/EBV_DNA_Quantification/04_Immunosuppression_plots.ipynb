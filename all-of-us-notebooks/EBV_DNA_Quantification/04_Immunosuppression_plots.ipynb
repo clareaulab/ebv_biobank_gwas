{
 "cells": [
  {
   "cell_type": "markdown",
   "metadata": {},
   "source": [
    "# Immunosuppressive drug exposure ~ EBV DNAemia\n",
    "\n",
    "Clean up query results in `03_Immunosuppressive_drug_exposure` and plot associations."
   ]
  },
  {
   "cell_type": "code",
   "execution_count": null,
   "metadata": {
    "vscode": {
     "languageId": "r"
    }
   },
   "outputs": [],
   "source": [
    "library(data.table)\n",
    "library(dplyr)\n",
    "library(BuenColors)"
   ]
  },
  {
   "cell_type": "code",
   "execution_count": null,
   "metadata": {
    "vscode": {
     "languageId": "r"
    }
   },
   "outputs": [],
   "source": [
    "immsup_df <- fread(\"immunosuppressive_drugs_df.csv\")"
   ]
  },
  {
   "cell_type": "code",
   "execution_count": null,
   "metadata": {
    "vscode": {
     "languageId": "r"
    }
   },
   "outputs": [],
   "source": [
    "head(immsup_df)"
   ]
  },
  {
   "cell_type": "code",
   "execution_count": null,
   "metadata": {
    "vscode": {
     "languageId": "r"
    }
   },
   "outputs": [],
   "source": [
    "all_drugs <- unique(immsup_df$drug_concept_id)"
   ]
  },
  {
   "cell_type": "code",
   "execution_count": null,
   "metadata": {
    "vscode": {
     "languageId": "r"
    }
   },
   "outputs": [],
   "source": [
    "length(all_drugs) # 53"
   ]
  },
  {
   "cell_type": "code",
   "execution_count": null,
   "metadata": {
    "vscode": {
     "languageId": "r"
    }
   },
   "outputs": [],
   "source": [
    "immsup_df %>% dplyr::select(drug_concept_id, drug_source_value) %>% unique() %>% fwrite(\"all_drugs_aou.csv\")"
   ]
  },
  {
   "cell_type": "code",
   "execution_count": null,
   "metadata": {
    "vscode": {
     "languageId": "r"
    }
   },
   "outputs": [],
   "source": [
    "# get has_ebv \n",
    "ebv_df <- fread(\"../intermediate/ebv_equivalent_30x.csv\")\n",
    "ebv_df$has_ebv <- as.integer(ebv_df$ebv_q30_30x > 0.0018) "
   ]
  },
  {
   "cell_type": "code",
   "execution_count": null,
   "metadata": {
    "vscode": {
     "languageId": "r"
    }
   },
   "outputs": [],
   "source": [
    "# get sex_at_birth and biosample collection date\n",
    "gm <- data.frame(fread(\"../data/genomic_metrics.tsv\")) %>% \n",
    "        rename(person = research_id)\n",
    "gm <- gm %>% dplyr::select(person, sex_at_birth, biosample_collection_date)\n",
    "gm[gm == \"\"] <- NA\n",
    "\n",
    "ebv_df <- ebv_df %>% dplyr::left_join(gm, by = \"person\")"
   ]
  },
  {
   "cell_type": "code",
   "execution_count": null,
   "metadata": {
    "vscode": {
     "languageId": "r"
    }
   },
   "outputs": [],
   "source": [
    "# get date of birth\n",
    "demo_df <- fread(\"demographic_df.csv\")\n",
    "demo_df_clean <- demo_df %>% dplyr::select(person_id, birth_datetime)\n",
    "ebv_df <- ebv_df %>% dplyr::left_join(demo_df_clean, by = c(\"person\" = \"person_id\"))"
   ]
  },
  {
   "cell_type": "code",
   "execution_count": null,
   "metadata": {
    "vscode": {
     "languageId": "r"
    }
   },
   "outputs": [],
   "source": [
    "library(lubridate)\n",
    "ebv_df <- ebv_df %>%\n",
    "dplyr::mutate(age = floor(interval(start = birth_datetime, end = biosample_collection_date)\n",
    "                          / duration(num = 1, units = 'years'))) %>%\n",
    "dplyr::select(-birth_datetime)"
   ]
  },
  {
   "cell_type": "code",
   "execution_count": null,
   "metadata": {
    "vscode": {
     "languageId": "r"
    }
   },
   "outputs": [],
   "source": [
    "ebv_df[ebv_df==\"\"] <- NA"
   ]
  },
  {
   "cell_type": "code",
   "execution_count": null,
   "metadata": {
    "vscode": {
     "languageId": "r"
    }
   },
   "outputs": [],
   "source": [
    "immsup_df_clean <- immsup_df %>% dplyr::select(person_id, drug_concept_id, drug_exposure_start_date, drug_exposure_end_date)"
   ]
  },
  {
   "cell_type": "code",
   "execution_count": null,
   "metadata": {
    "vscode": {
     "languageId": "r"
    }
   },
   "outputs": [],
   "source": [
    "immsup_df_clean <- immsup_df_clean %>%\n",
    "dplyr::inner_join(ebv_df, by = c(\"person_id\" = \"person\"))"
   ]
  },
  {
   "cell_type": "code",
   "execution_count": null,
   "metadata": {
    "vscode": {
     "languageId": "r"
    }
   },
   "outputs": [],
   "source": [
    "# Replace \"\" with NA only in character columns\n",
    "char_cols <- names(immsup_df_clean)[sapply(immsup_df_clean, is.character)]\n",
    "immsup_df_clean[, (char_cols) := lapply(.SD, function(x) fifelse(x == \"\", NA_character_, x)), .SDcols = char_cols]"
   ]
  },
  {
   "cell_type": "code",
   "execution_count": null,
   "metadata": {
    "vscode": {
     "languageId": "r"
    }
   },
   "outputs": [],
   "source": [
    "# Check if biosample_date falls between start_date and end_date\n",
    "immsup_df_clean <- immsup_df_clean %>%\n",
    "dplyr::mutate(\n",
    "in_range = as.integer(biosample_collection_date >= drug_exposure_start_date & \n",
    "    (is.na(drug_exposure_end_date) | biosample_collection_date <= drug_exposure_end_date))\n",
    ")"
   ]
  },
  {
   "cell_type": "code",
   "execution_count": null,
   "metadata": {
    "vscode": {
     "languageId": "r"
    }
   },
   "outputs": [],
   "source": [
    "immsup_IDs <- immsup_df_clean %>% dplyr::filter(in_range == 1) %>% pull(person_id) %>% unique()"
   ]
  },
  {
   "cell_type": "code",
   "execution_count": null,
   "metadata": {
    "vscode": {
     "languageId": "r"
    }
   },
   "outputs": [],
   "source": [
    "length(immsup_IDs) # 3725"
   ]
  },
  {
   "cell_type": "code",
   "execution_count": null,
   "metadata": {
    "vscode": {
     "languageId": "r"
    }
   },
   "outputs": [],
   "source": [
    "ebv_df_all <- ebv_df %>%\n",
    "dplyr::mutate(immsup = as.integer(person %in% immsup_IDs))"
   ]
  },
  {
   "cell_type": "code",
   "execution_count": null,
   "metadata": {
    "vscode": {
     "languageId": "r"
    }
   },
   "outputs": [],
   "source": [
    "fisher.test(table(ebv_df_all$immsup, ebv_df_all$has_ebv))"
   ]
  },
  {
   "cell_type": "code",
   "execution_count": null,
   "metadata": {
    "vscode": {
     "languageId": "r"
    }
   },
   "outputs": [],
   "source": [
    "df_immsup_sex <- ebv_df_all %>% \n",
    "  dplyr::group_by(sex_at_birth, immsup) %>%\n",
    "  dplyr::summarise(ebv_positive_percent = mean(has_ebv == 1) * 100, \n",
    "                   var = var( (has_ebv == 1)), hits = sum(has_ebv == 1) ,\n",
    "                   count = n()) %>% mutate(sem = (ebv_positive_percent)/sqrt(var*count))"
   ]
  },
  {
   "cell_type": "code",
   "execution_count": null,
   "metadata": {
    "vscode": {
     "languageId": "r"
    }
   },
   "outputs": [],
   "source": [
    "df_immsup_sex <- df_immsup_sex %>% na.omit()"
   ]
  },
  {
   "cell_type": "code",
   "execution_count": null,
   "metadata": {
    "vscode": {
     "languageId": "r"
    }
   },
   "outputs": [],
   "source": [
    "pimmsupsex <- ggplot(df_immsup_sex, aes(x = sex_at_birth, y = ebv_positive_percent, fill = as.factor(immsup))) +\n",
    "  geom_bar(stat = \"identity\", color = \"black\", position = position_dodge()) +\n",
    "  labs(x = \"Sex at birth\", y = \"% EBV DNA+\") +\n",
    "  theme_minimal() + \n",
    "  theme(axis.text.x = element_text(angle = 45, hjust = 1))  + \n",
    "  pretty_plot(fontsize = 8) + L_border() + theme(legend.position = \"none\") +\n",
    "  geom_errorbar(aes( ymin=ebv_positive_percent-sem, ymax=ebv_positive_percent+sem), width=0.2, position = position_dodge(.9)) +\n",
    "  scale_y_continuous(expand = c(0,0)) +\n",
    "  scale_fill_manual(values = c(\"lightgrey\", \"darkgrey\"))"
   ]
  },
  {
   "cell_type": "code",
   "execution_count": null,
   "metadata": {
    "vscode": {
     "languageId": "r"
    }
   },
   "outputs": [],
   "source": [
    "cowplot::ggsave2(pimmsupsex, file = \"plots/EBV_Immunosuppressed.pdf\", width = 1.8, height = 1.8)"
   ]
  }
 ],
 "metadata": {
  "language_info": {
   "name": "python"
  }
 },
 "nbformat": 4,
 "nbformat_minor": 2
}
