{
 "cells": [
  {
   "cell_type": "markdown",
   "metadata": {},
   "source": [
    "# Parse REGENIE outputs\n",
    "\n",
    "All `.regenie` output files from `03_Run_REGENIE.ipynb` are combined here:"
   ]
  },
  {
   "cell_type": "code",
   "execution_count": null,
   "metadata": {},
   "outputs": [],
   "source": [
    "# Load libraries\n",
    "library(data.table)\n",
    "library(dplyr)\n",
    "library(ggplot2)"
   ]
  },
  {
   "cell_type": "code",
   "execution_count": null,
   "metadata": {},
   "outputs": [],
   "source": [
    "## Filepath to all zipped .regenie files\n",
    "dir_path <- \"./REGENIE_results_EUR/\"\n",
    "\n",
    "# List all .gz files in the directory\n",
    "gz_files <- list.files(path = dir_path, pattern = \"\\\\.gz$\", full.names = TRUE)\n",
    "\n",
    "# Read all .gz files into a list of data.tables\n",
    "data_list <- lapply(gz_files, fread)\n",
    "\n",
    "# Combine all data.tables into one\n",
    "combined_data <- rbindlist(data_list, use.names = TRUE, fill = TRUE)\n",
    "\n",
    "rm(data_list)\n",
    "\n",
    "# Clean up dataframe\n",
    "table(combined_data$TEST) # all \"ADD\"\n",
    "table(combined_data$EXTRA) # NA\n",
    "table(combined_data$INFO) # all 1\n",
    "\n",
    "combined_data <- combined_data %>%\n",
    "  dplyr::select(-INFO, -TEST, -EXTRA)\n",
    "\n",
    "# Add ORs\n",
    "combined_data$OR <- exp(combined_data$BETA)\n",
    "\n",
    "# How many variants are < 5e-8?\n",
    "# Convert LOG10P to p value: LOG10P = -log10(p-value) -> 10^(-LOG10P) = p-value\n",
    "combined_data$p_val <- 10^(-combined_data$LOG10P)\n",
    "\n",
    "# 29838 significant variants\n",
    "table(combined_data$p_val < 5e-8, combined_data$CHROM)\n",
    "\n",
    "fwrite(combined_data, \"AOU_REGENIE_combined_results.csv.gz\")"
   ]
  }
 ],
 "metadata": {
  "language_info": {
   "name": "python"
  }
 },
 "nbformat": 4,
 "nbformat_minor": 2
}
