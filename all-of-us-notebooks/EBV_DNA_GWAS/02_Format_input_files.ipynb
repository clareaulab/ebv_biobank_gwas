{
 "cells": [
  {
   "cell_type": "markdown",
   "metadata": {},
   "source": [
    "# Format REGENIE input files\n",
    "\n"
   ]
  },
  {
   "cell_type": "markdown",
   "metadata": {},
   "source": [
    "To perform EBV DNAemia GWAS within the AoU cohort of individuals with European ancestry (EUR), we followed the demo workspace for performing GWAS in AoU: https://workbench.researchallofus.org/workspaces/aou-rw-5981f9dc/aouldlgwasregeniedsubctv6duplicate/analysis. In particular, we modified the code from the `4.0_regenie_dsub_HP_TM` script to run REGENIE with our EBV DNA binary trait.\n",
    "\n",
    "This script formats the covariate and phenotype files that are inputs to REGENIE, i.e., the files specified in the dsub command in `03_Run_REGENIE.ipynb`:\n",
    "```bash\n",
    "--input pheno_file=\"{my_bucket}/data/dsub/ebv_EUR_0018.tsv\"\n",
    "--input cov_file=\"{my_bucket}/data/dsub/ebv_EUR_covar.tsv\" \n",
    "```\n",
    "This follows the formats described in `3_pheno_reformatting_HC` of the demo workspace.\n",
    "\n",
    "The covariates can be obtained as described here: https://support.researchallofus.org/hc/en-us/articles/4614687617556-How-the-All-of-Us-Genomic-data-are-organized-Archived-C2022Q4R13-CDRv7 and here:\n",
    "https://support.researchallofus.org/hc/en-us/articles/29475233432212-Controlled-CDR-Directory .\n",
    "\n",
    "Specifically, these gs bucket paths:\n",
    "- Genetic ancestry and PCs: gs://fc-aou-datasets-controlled/v8/wgs/short_read/snpindel/aux/ancestry/ancestry_preds.tsv\n",
    "- Genomic metrics (sex_at_birth): gs://fc-aou-datasets-controlled/v8/wgs/short_read/snpindel/aux/qc/genomic_metrics.tsv \n",
    "- Demographics (?)"
   ]
  },
  {
   "cell_type": "code",
   "execution_count": null,
   "metadata": {
    "vscode": {
     "languageId": "r"
    }
   },
   "outputs": [],
   "source": [
    "library(data.table)\n",
    "library(dplyr)"
   ]
  },
  {
   "cell_type": "code",
   "execution_count": null,
   "metadata": {
    "vscode": {
     "languageId": "r"
    }
   },
   "outputs": [],
   "source": [
    "setwd(\"/home/jupyter/workspaces/ebvgwas\")"
   ]
  },
  {
   "cell_type": "code",
   "execution_count": null,
   "metadata": {
    "vscode": {
     "languageId": "r"
    }
   },
   "outputs": [],
   "source": [
    "pheno_df <- fread(\"EBV_GWAS_data/ebv_EUR_0018.csv\")"
   ]
  },
  {
   "cell_type": "code",
   "execution_count": null,
   "metadata": {
    "vscode": {
     "languageId": "r"
    }
   },
   "outputs": [],
   "source": [
    "pheno_df <- pheno_df %>%\n",
    "  dplyr::mutate(\n",
    "      FID = person,\n",
    "      IID = FID) %>%\n",
    "dplyr::select(FID, IID, has_ebv)"
   ]
  },
  {
   "cell_type": "code",
   "execution_count": null,
   "metadata": {
    "vscode": {
     "languageId": "r"
    }
   },
   "outputs": [],
   "source": [
    "# Without the 'quote=FALSE' option REGENIE will error out, as the column headers will have \"\" \n",
    "write.table(pheno_df, file = \"EBV_GWAS_data/EUR/ebv_EUR_0018.tsv\", row.names=FALSE, sep=\"\\t\", quote=FALSE) "
   ]
  },
  {
   "cell_type": "code",
   "execution_count": null,
   "metadata": {
    "vscode": {
     "languageId": "r"
    }
   },
   "outputs": [],
   "source": [
    "covar_df <- fread(\"EBV_data/EUR/all_covariates_EUR.csv\")"
   ]
  },
  {
   "cell_type": "code",
   "execution_count": null,
   "metadata": {
    "vscode": {
     "languageId": "r"
    }
   },
   "outputs": [],
   "source": [
    "covar_df <- covar_df[covar_df$person %in% pheno_df$FID,]"
   ]
  },
  {
   "cell_type": "code",
   "execution_count": null,
   "metadata": {
    "vscode": {
     "languageId": "r"
    }
   },
   "outputs": [],
   "source": [
    "covar_df <- covar_df %>% \n",
    "dplyr::mutate(\n",
    "      FID = person,\n",
    "      IID = FID) %>%\n",
    "dplyr::select(-person) %>% \n",
    "dplyr::select(FID, IID, \n",
    "              sex_at_birth, age, age2, \n",
    "              PC1, PC2, PC3, PC4, PC5, PC6, PC7, PC8, PC9, PC10, PC11, PC12, PC13, PC14, PC15)"
   ]
  },
  {
   "cell_type": "code",
   "execution_count": null,
   "metadata": {
    "vscode": {
     "languageId": "r"
    }
   },
   "outputs": [],
   "source": [
    "# Without the 'quote=FALSE' option REGENIE will error out, as the column headers will have \"\" \n",
    "write.table(covar_df, file = \"EBV_GWAS_data/EUR/ebv_EUR_covar_0018.tsv\", row.names=FALSE, sep=\"\\t\", quote=FALSE)"
   ]
  },
  {
   "cell_type": "markdown",
   "metadata": {},
   "source": [
    "Running EBV DNA as a quantitative trait:"
   ]
  },
  {
   "cell_type": "code",
   "execution_count": null,
   "metadata": {
    "vscode": {
     "languageId": "r"
    }
   },
   "outputs": [],
   "source": [
    "pheno_df <- fread(\"EBV_data/EUR/ebv_30x_df_EUR.csv\")"
   ]
  },
  {
   "cell_type": "code",
   "execution_count": null,
   "metadata": {
    "vscode": {
     "languageId": "r"
    }
   },
   "outputs": [],
   "source": [
    "# subset to those that passed threshold\n",
    "pheno_df <- pheno_df[pheno_df$ebv_q30_30x > 0.0018,] %>%\n",
    "  dplyr::mutate(\n",
    "      FID = person,\n",
    "      IID = FID) %>%\n",
    "dplyr::select(FID, IID, ebv_q30_30x)"
   ]
  },
  {
   "cell_type": "code",
   "execution_count": null,
   "metadata": {
    "vscode": {
     "languageId": "r"
    }
   },
   "outputs": [],
   "source": [
    "# Without the 'quote=FALSE' option Regenie will error out as the column headers will have \"\" \n",
    "write.table(pheno_df, file = \"EBV_GWAS_data/EUR/ebv_EUR_30x_0018.tsv\", row.names=FALSE, sep=\"\\t\", quote=FALSE)"
   ]
  }
 ],
 "metadata": {
  "kernelspec": {
   "display_name": "R",
   "language": "R",
   "name": "ir"
  },
  "language_info": {
   "name": "R"
  }
 },
 "nbformat": 4,
 "nbformat_minor": 2
}
