{
 "cells": [
  {
   "cell_type": "markdown",
   "metadata": {},
   "source": [
    "# README\n",
    "\n",
    "This directory has three subfolders:\n",
    "1. **EBV DNA Quantification**: Quantify EBV DNA reads from WGS, normalize to 30xWGS coverage, and determine EBV+ individuals (as a binary trait). Also includes code that formats the covariate input files used in EBV DNA GWAS.\n",
    "- `01_Quantify_EBV_DNA.ipynb`: normalized EBV DNA quantities per person.\n",
    "- `02_Format_EBV_DNA_covariates.ipynb`: ancestry, PCs, sex at birth, age (age^2), and EBV+ annotations per person.\n",
    "2. **EBV DNA GWAS**: Run REGENIE on the EBV+ trait for individuals with EUR ancestry.   \n",
    "- `01_Filter_SNPs.ipynb`: input SNPlists for REGENIE.  \n",
    "- `02_Format_input_files.ipynb`: input covariate/phenotype files for REGENIE.  \n",
    "- `03_Run_REGENIE.ipynb`: REGENIE analysis for chr1-22.  \n",
    "- `04_Parse_REGENIE_results.ipynb`: parsed REGENIE output files.\n",
    "3. **EBV DNA PheWAS**: Run Fisher tests for associations of EBV+ with ICD9/10 codes represented in individuals with EUR ancestry. \n",
    "- `01_Query_PheWAS_inputs.ipynb`: queries to obtain EHR data per person. \n",
    "- `02_Clean_ICD_annotations.ipynb`: cleaned version of ICD9/10 annotation files.\n",
    "- `03_Run_PheWAS.ipynb`: associations of each ICD code with EBV+, with ICD code annotations.  "
   ]
  },
  {
   "cell_type": "markdown",
   "metadata": {},
   "source": []
  }
 ],
 "metadata": {
  "language_info": {
   "name": "python"
  }
 },
 "nbformat": 4,
 "nbformat_minor": 2
}
